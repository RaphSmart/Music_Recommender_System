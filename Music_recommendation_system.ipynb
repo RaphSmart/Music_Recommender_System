{
 "cells": [
  {
   "cell_type": "code",
   "execution_count": 1,
   "id": "dc723544-f0a8-48a1-8e87-2454bededc01",
   "metadata": {},
   "outputs": [],
   "source": [
    "import pandas as pd"
   ]
  },
  {
   "cell_type": "code",
   "execution_count": 2,
   "id": "b26cb160-40a0-4eb8-af9e-16b57fe9e0f0",
   "metadata": {},
   "outputs": [
    {
     "data": {
      "text/html": [
       "<div>\n",
       "<style scoped>\n",
       "    .dataframe tbody tr th:only-of-type {\n",
       "        vertical-align: middle;\n",
       "    }\n",
       "\n",
       "    .dataframe tbody tr th {\n",
       "        vertical-align: top;\n",
       "    }\n",
       "\n",
       "    .dataframe thead th {\n",
       "        text-align: right;\n",
       "    }\n",
       "</style>\n",
       "<table border=\"1\" class=\"dataframe\">\n",
       "  <thead>\n",
       "    <tr style=\"text-align: right;\">\n",
       "      <th></th>\n",
       "      <th>artist</th>\n",
       "      <th>song</th>\n",
       "      <th>link</th>\n",
       "      <th>text</th>\n",
       "    </tr>\n",
       "  </thead>\n",
       "  <tbody>\n",
       "    <tr>\n",
       "      <th>0</th>\n",
       "      <td>ABBA</td>\n",
       "      <td>Ahe's My Kind Of Girl</td>\n",
       "      <td>/a/abba/ahes+my+kind+of+girl_20598417.html</td>\n",
       "      <td>Look at her face, it's a wonderful face  \\r\\nA...</td>\n",
       "    </tr>\n",
       "    <tr>\n",
       "      <th>1</th>\n",
       "      <td>ABBA</td>\n",
       "      <td>Andante, Andante</td>\n",
       "      <td>/a/abba/andante+andante_20002708.html</td>\n",
       "      <td>Take it easy with me, please  \\r\\nTouch me gen...</td>\n",
       "    </tr>\n",
       "    <tr>\n",
       "      <th>2</th>\n",
       "      <td>ABBA</td>\n",
       "      <td>As Good As New</td>\n",
       "      <td>/a/abba/as+good+as+new_20003033.html</td>\n",
       "      <td>I'll never know why I had to go  \\r\\nWhy I had...</td>\n",
       "    </tr>\n",
       "    <tr>\n",
       "      <th>3</th>\n",
       "      <td>ABBA</td>\n",
       "      <td>Bang</td>\n",
       "      <td>/a/abba/bang_20598415.html</td>\n",
       "      <td>Making somebody happy is a question of give an...</td>\n",
       "    </tr>\n",
       "    <tr>\n",
       "      <th>4</th>\n",
       "      <td>ABBA</td>\n",
       "      <td>Bang-A-Boomerang</td>\n",
       "      <td>/a/abba/bang+a+boomerang_20002668.html</td>\n",
       "      <td>Making somebody happy is a question of give an...</td>\n",
       "    </tr>\n",
       "  </tbody>\n",
       "</table>\n",
       "</div>"
      ],
      "text/plain": [
       "  artist                   song                                        link  \\\n",
       "0   ABBA  Ahe's My Kind Of Girl  /a/abba/ahes+my+kind+of+girl_20598417.html   \n",
       "1   ABBA       Andante, Andante       /a/abba/andante+andante_20002708.html   \n",
       "2   ABBA         As Good As New        /a/abba/as+good+as+new_20003033.html   \n",
       "3   ABBA                   Bang                  /a/abba/bang_20598415.html   \n",
       "4   ABBA       Bang-A-Boomerang      /a/abba/bang+a+boomerang_20002668.html   \n",
       "\n",
       "                                                text  \n",
       "0  Look at her face, it's a wonderful face  \\r\\nA...  \n",
       "1  Take it easy with me, please  \\r\\nTouch me gen...  \n",
       "2  I'll never know why I had to go  \\r\\nWhy I had...  \n",
       "3  Making somebody happy is a question of give an...  \n",
       "4  Making somebody happy is a question of give an...  "
      ]
     },
     "execution_count": 2,
     "metadata": {},
     "output_type": "execute_result"
    }
   ],
   "source": [
    "df = pd.read_csv(\"dataset/spotify_millsongdata.csv\")\n",
    "df.head()"
   ]
  },
  {
   "cell_type": "code",
   "execution_count": 3,
   "id": "914f1b55-1f8d-4271-a000-5b7cde2394e0",
   "metadata": {},
   "outputs": [
    {
     "data": {
      "text/html": [
       "<div>\n",
       "<style scoped>\n",
       "    .dataframe tbody tr th:only-of-type {\n",
       "        vertical-align: middle;\n",
       "    }\n",
       "\n",
       "    .dataframe tbody tr th {\n",
       "        vertical-align: top;\n",
       "    }\n",
       "\n",
       "    .dataframe thead th {\n",
       "        text-align: right;\n",
       "    }\n",
       "</style>\n",
       "<table border=\"1\" class=\"dataframe\">\n",
       "  <thead>\n",
       "    <tr style=\"text-align: right;\">\n",
       "      <th></th>\n",
       "      <th>artist</th>\n",
       "      <th>song</th>\n",
       "      <th>link</th>\n",
       "      <th>text</th>\n",
       "    </tr>\n",
       "  </thead>\n",
       "  <tbody>\n",
       "    <tr>\n",
       "      <th>57645</th>\n",
       "      <td>Ziggy Marley</td>\n",
       "      <td>Good Old Days</td>\n",
       "      <td>/z/ziggy+marley/good+old+days_10198588.html</td>\n",
       "      <td>Irie days come on play  \\r\\nLet the angels fly...</td>\n",
       "    </tr>\n",
       "    <tr>\n",
       "      <th>57646</th>\n",
       "      <td>Ziggy Marley</td>\n",
       "      <td>Hand To Mouth</td>\n",
       "      <td>/z/ziggy+marley/hand+to+mouth_20531167.html</td>\n",
       "      <td>Power to the workers  \\r\\nMore power  \\r\\nPowe...</td>\n",
       "    </tr>\n",
       "    <tr>\n",
       "      <th>57647</th>\n",
       "      <td>Zwan</td>\n",
       "      <td>Come With Me</td>\n",
       "      <td>/z/zwan/come+with+me_20148981.html</td>\n",
       "      <td>all you need  \\r\\nis something i'll believe  \\...</td>\n",
       "    </tr>\n",
       "    <tr>\n",
       "      <th>57648</th>\n",
       "      <td>Zwan</td>\n",
       "      <td>Desire</td>\n",
       "      <td>/z/zwan/desire_20148986.html</td>\n",
       "      <td>northern star  \\r\\nam i frightened  \\r\\nwhere ...</td>\n",
       "    </tr>\n",
       "    <tr>\n",
       "      <th>57649</th>\n",
       "      <td>Zwan</td>\n",
       "      <td>Heartsong</td>\n",
       "      <td>/z/zwan/heartsong_20148991.html</td>\n",
       "      <td>come in  \\r\\nmake yourself at home  \\r\\ni'm a ...</td>\n",
       "    </tr>\n",
       "  </tbody>\n",
       "</table>\n",
       "</div>"
      ],
      "text/plain": [
       "             artist           song  \\\n",
       "57645  Ziggy Marley  Good Old Days   \n",
       "57646  Ziggy Marley  Hand To Mouth   \n",
       "57647          Zwan   Come With Me   \n",
       "57648          Zwan         Desire   \n",
       "57649          Zwan      Heartsong   \n",
       "\n",
       "                                              link  \\\n",
       "57645  /z/ziggy+marley/good+old+days_10198588.html   \n",
       "57646  /z/ziggy+marley/hand+to+mouth_20531167.html   \n",
       "57647           /z/zwan/come+with+me_20148981.html   \n",
       "57648                 /z/zwan/desire_20148986.html   \n",
       "57649              /z/zwan/heartsong_20148991.html   \n",
       "\n",
       "                                                    text  \n",
       "57645  Irie days come on play  \\r\\nLet the angels fly...  \n",
       "57646  Power to the workers  \\r\\nMore power  \\r\\nPowe...  \n",
       "57647  all you need  \\r\\nis something i'll believe  \\...  \n",
       "57648  northern star  \\r\\nam i frightened  \\r\\nwhere ...  \n",
       "57649  come in  \\r\\nmake yourself at home  \\r\\ni'm a ...  "
      ]
     },
     "execution_count": 3,
     "metadata": {},
     "output_type": "execute_result"
    }
   ],
   "source": [
    "df.tail()"
   ]
  },
  {
   "cell_type": "code",
   "execution_count": 4,
   "id": "a73a0a40-e37b-4d6c-9891-0e68090d861d",
   "metadata": {},
   "outputs": [
    {
     "data": {
      "text/plain": [
       "(57650, 4)"
      ]
     },
     "execution_count": 4,
     "metadata": {},
     "output_type": "execute_result"
    }
   ],
   "source": [
    "df.shape"
   ]
  },
  {
   "cell_type": "code",
   "execution_count": 5,
   "id": "ca5dde1c-70da-480b-8045-e9184710d92a",
   "metadata": {},
   "outputs": [
    {
     "data": {
      "text/plain": [
       "artist    0\n",
       "song      0\n",
       "link      0\n",
       "text      0\n",
       "dtype: int64"
      ]
     },
     "execution_count": 5,
     "metadata": {},
     "output_type": "execute_result"
    }
   ],
   "source": [
    "df.isnull().sum()"
   ]
  },
  {
   "cell_type": "code",
   "execution_count": 6,
   "id": "272aaa97-aa4c-4c17-9fb4-ce6803765e1d",
   "metadata": {},
   "outputs": [
    {
     "data": {
      "text/html": [
       "<div>\n",
       "<style scoped>\n",
       "    .dataframe tbody tr th:only-of-type {\n",
       "        vertical-align: middle;\n",
       "    }\n",
       "\n",
       "    .dataframe tbody tr th {\n",
       "        vertical-align: top;\n",
       "    }\n",
       "\n",
       "    .dataframe thead th {\n",
       "        text-align: right;\n",
       "    }\n",
       "</style>\n",
       "<table border=\"1\" class=\"dataframe\">\n",
       "  <thead>\n",
       "    <tr style=\"text-align: right;\">\n",
       "      <th></th>\n",
       "      <th>artist</th>\n",
       "      <th>song</th>\n",
       "      <th>text</th>\n",
       "    </tr>\n",
       "  </thead>\n",
       "  <tbody>\n",
       "    <tr>\n",
       "      <th>0</th>\n",
       "      <td>Stevie Wonder</td>\n",
       "      <td>My Girl</td>\n",
       "      <td>I've got sunshine on a cloudy day  \\r\\nWhen it...</td>\n",
       "    </tr>\n",
       "    <tr>\n",
       "      <th>1</th>\n",
       "      <td>Toto</td>\n",
       "      <td>Falling In Between</td>\n",
       "      <td>I've just got to find  \\r\\nFind a way, back ho...</td>\n",
       "    </tr>\n",
       "    <tr>\n",
       "      <th>2</th>\n",
       "      <td>Kris Kristofferson</td>\n",
       "      <td>The Bandits Of Beverly Hills</td>\n",
       "      <td>The knew the moment their eyes came together  ...</td>\n",
       "    </tr>\n",
       "    <tr>\n",
       "      <th>3</th>\n",
       "      <td>John Prine</td>\n",
       "      <td>Take The Star Out Of The Window</td>\n",
       "      <td>Robert was a sailor  \\r\\nFor the best years of...</td>\n",
       "    </tr>\n",
       "    <tr>\n",
       "      <th>4</th>\n",
       "      <td>Dean Martin</td>\n",
       "      <td>Dream</td>\n",
       "      <td>Stars shining bright above you  \\r\\nNight bree...</td>\n",
       "    </tr>\n",
       "  </tbody>\n",
       "</table>\n",
       "</div>"
      ],
      "text/plain": [
       "               artist                             song  \\\n",
       "0       Stevie Wonder                          My Girl   \n",
       "1                Toto               Falling In Between   \n",
       "2  Kris Kristofferson     The Bandits Of Beverly Hills   \n",
       "3          John Prine  Take The Star Out Of The Window   \n",
       "4         Dean Martin                            Dream   \n",
       "\n",
       "                                                text  \n",
       "0  I've got sunshine on a cloudy day  \\r\\nWhen it...  \n",
       "1  I've just got to find  \\r\\nFind a way, back ho...  \n",
       "2  The knew the moment their eyes came together  ...  \n",
       "3  Robert was a sailor  \\r\\nFor the best years of...  \n",
       "4  Stars shining bright above you  \\r\\nNight bree...  "
      ]
     },
     "execution_count": 6,
     "metadata": {},
     "output_type": "execute_result"
    }
   ],
   "source": [
    "# Take a sample of 5000 from the data and Drop link column\n",
    "df = df.sample(5000).drop('link', axis=1).reset_index(drop=True)\n",
    "df.head()"
   ]
  },
  {
   "cell_type": "code",
   "execution_count": 7,
   "id": "04b2c207-ba94-45a6-992a-ed0828838a9a",
   "metadata": {},
   "outputs": [
    {
     "data": {
      "text/plain": [
       "\"I've got sunshine on a cloudy day  \\r\\nWhen it's cold outside I've got the month of May  \\r\\nI guess you'd say  \\r\\nWhat can make me feel this way?  \\r\\nMy girl (my girl, my girl)  \\r\\nTalkin' 'bout my girl (my girl)  \\r\\n  \\r\\nI've got so much honey the bees envy me  \\r\\nI've got a sweeter song than the birds in the trees  \\r\\nI guess you'd say  \\r\\nWhat can make me feel this way?  \\r\\nMy girl (my girl, my girl)  \\r\\nTalkin' 'bout my girl (my girl)  \\r\\n  \\r\\nHey hey hey  \\r\\nHey hey hey  \\r\\nOoh  \\r\\n  \\r\\nI don't need no money, fortune, or fame  \\r\\nI've got all the riches baby one man can claim  \\r\\nI guess you'd say  \\r\\nWhat can make me feel this way?  \\r\\nMy girl (my girl, my girl)  \\r\\nTalkin' 'bout my girl (my girl)  \\r\\n  \\r\\nI've got sunshine on a cloudy day  \\r\\nWith my girl  \\r\\n  \\r\\nI've even got the month of May  \\r\\nWith my girl\\r\\n\\r\\n\""
      ]
     },
     "execution_count": 7,
     "metadata": {},
     "output_type": "execute_result"
    }
   ],
   "source": [
    "# View the lyrics of the first song\n",
    "df['text'][0]"
   ]
  },
  {
   "cell_type": "code",
   "execution_count": 8,
   "id": "50265b1d-3b5f-4efc-afa8-07244100c978",
   "metadata": {},
   "outputs": [
    {
     "data": {
      "text/plain": [
       "(5000, 3)"
      ]
     },
     "execution_count": 8,
     "metadata": {},
     "output_type": "execute_result"
    }
   ],
   "source": [
    "df.shape"
   ]
  },
  {
   "cell_type": "code",
   "execution_count": 9,
   "id": "206ba025-5807-4251-b556-5a280687fe1b",
   "metadata": {},
   "outputs": [
    {
     "data": {
      "text/plain": [
       "0       i've got sunshine on a cloudy day  \\r when it'...\n",
       "1       i've just got to find  \\r find a way, back hom...\n",
       "2       the knew the moment their eyes came together  ...\n",
       "3       robert was a sailor  \\r for the best years of ...\n",
       "4       stars shining bright above you  \\r night breez...\n",
       "                              ...                        \n",
       "4995    this could be our last good night together  \\r...\n",
       "4996    i was on my way down to mexico,  \\r there was ...\n",
       "4997    you know, boy  \\r you're so busy reaching for ...\n",
       "4998    if i want some beer  \\r i don't want to hear  ...\n",
       "4999    now lay me down on market street  \\r i'm looki...\n",
       "Name: text, Length: 5000, dtype: object"
      ]
     },
     "execution_count": 9,
     "metadata": {},
     "output_type": "execute_result"
    }
   ],
   "source": [
    "# Data cleaning/preprocessing\n",
    "# remove \\n in the lyrics columns\n",
    "df['text'].str.lower().replace(r'^\\w\\s', ' ').replace(r'\\n', ' ', regex = True)"
   ]
  },
  {
   "cell_type": "code",
   "execution_count": 10,
   "id": "1e1b2255-7c4e-4fc7-aa34-aaf1de87b1f9",
   "metadata": {},
   "outputs": [],
   "source": [
    "df['text'] = df['text'].str.lower().replace(r'^\\w\\s', ' ').replace(r'\\n', ' ', regex = True)"
   ]
  },
  {
   "cell_type": "code",
   "execution_count": 11,
   "id": "dc95502b-c2b4-4db4-9aef-c5fc6622c6da",
   "metadata": {},
   "outputs": [
    {
     "data": {
      "text/html": [
       "<div>\n",
       "<style scoped>\n",
       "    .dataframe tbody tr th:only-of-type {\n",
       "        vertical-align: middle;\n",
       "    }\n",
       "\n",
       "    .dataframe tbody tr th {\n",
       "        vertical-align: top;\n",
       "    }\n",
       "\n",
       "    .dataframe thead th {\n",
       "        text-align: right;\n",
       "    }\n",
       "</style>\n",
       "<table border=\"1\" class=\"dataframe\">\n",
       "  <thead>\n",
       "    <tr style=\"text-align: right;\">\n",
       "      <th></th>\n",
       "      <th>artist</th>\n",
       "      <th>song</th>\n",
       "      <th>text</th>\n",
       "    </tr>\n",
       "  </thead>\n",
       "  <tbody>\n",
       "    <tr>\n",
       "      <th>0</th>\n",
       "      <td>Stevie Wonder</td>\n",
       "      <td>My Girl</td>\n",
       "      <td>i've got sunshine on a cloudy day  \\r when it'...</td>\n",
       "    </tr>\n",
       "    <tr>\n",
       "      <th>1</th>\n",
       "      <td>Toto</td>\n",
       "      <td>Falling In Between</td>\n",
       "      <td>i've just got to find  \\r find a way, back hom...</td>\n",
       "    </tr>\n",
       "    <tr>\n",
       "      <th>2</th>\n",
       "      <td>Kris Kristofferson</td>\n",
       "      <td>The Bandits Of Beverly Hills</td>\n",
       "      <td>the knew the moment their eyes came together  ...</td>\n",
       "    </tr>\n",
       "    <tr>\n",
       "      <th>3</th>\n",
       "      <td>John Prine</td>\n",
       "      <td>Take The Star Out Of The Window</td>\n",
       "      <td>robert was a sailor  \\r for the best years of ...</td>\n",
       "    </tr>\n",
       "    <tr>\n",
       "      <th>4</th>\n",
       "      <td>Dean Martin</td>\n",
       "      <td>Dream</td>\n",
       "      <td>stars shining bright above you  \\r night breez...</td>\n",
       "    </tr>\n",
       "  </tbody>\n",
       "</table>\n",
       "</div>"
      ],
      "text/plain": [
       "               artist                             song  \\\n",
       "0       Stevie Wonder                          My Girl   \n",
       "1                Toto               Falling In Between   \n",
       "2  Kris Kristofferson     The Bandits Of Beverly Hills   \n",
       "3          John Prine  Take The Star Out Of The Window   \n",
       "4         Dean Martin                            Dream   \n",
       "\n",
       "                                                text  \n",
       "0  i've got sunshine on a cloudy day  \\r when it'...  \n",
       "1  i've just got to find  \\r find a way, back hom...  \n",
       "2  the knew the moment their eyes came together  ...  \n",
       "3  robert was a sailor  \\r for the best years of ...  \n",
       "4  stars shining bright above you  \\r night breez...  "
      ]
     },
     "execution_count": 11,
     "metadata": {},
     "output_type": "execute_result"
    }
   ],
   "source": [
    "df.head()"
   ]
  },
  {
   "cell_type": "code",
   "execution_count": 12,
   "id": "822b7605-c58b-43e4-9f67-f814216aea79",
   "metadata": {},
   "outputs": [
    {
     "data": {
      "text/html": [
       "<div>\n",
       "<style scoped>\n",
       "    .dataframe tbody tr th:only-of-type {\n",
       "        vertical-align: middle;\n",
       "    }\n",
       "\n",
       "    .dataframe tbody tr th {\n",
       "        vertical-align: top;\n",
       "    }\n",
       "\n",
       "    .dataframe thead th {\n",
       "        text-align: right;\n",
       "    }\n",
       "</style>\n",
       "<table border=\"1\" class=\"dataframe\">\n",
       "  <thead>\n",
       "    <tr style=\"text-align: right;\">\n",
       "      <th></th>\n",
       "      <th>artist</th>\n",
       "      <th>song</th>\n",
       "      <th>text</th>\n",
       "    </tr>\n",
       "  </thead>\n",
       "  <tbody>\n",
       "    <tr>\n",
       "      <th>4995</th>\n",
       "      <td>Kris Kristofferson</td>\n",
       "      <td>Please Don't Tell Me How The Story Ends</td>\n",
       "      <td>this could be our last good night together  \\r...</td>\n",
       "    </tr>\n",
       "    <tr>\n",
       "      <th>4996</th>\n",
       "      <td>ZZ Top</td>\n",
       "      <td>Goin' Down To Mexico</td>\n",
       "      <td>i was on my way down to mexico,  \\r there was ...</td>\n",
       "    </tr>\n",
       "    <tr>\n",
       "      <th>4997</th>\n",
       "      <td>Donna Summer</td>\n",
       "      <td>All Through The Night</td>\n",
       "      <td>you know, boy  \\r you're so busy reaching for ...</td>\n",
       "    </tr>\n",
       "    <tr>\n",
       "      <th>4998</th>\n",
       "      <td>NOFX</td>\n",
       "      <td>Beer Bong</td>\n",
       "      <td>if i want some beer  \\r i don't want to hear  ...</td>\n",
       "    </tr>\n",
       "    <tr>\n",
       "      <th>4999</th>\n",
       "      <td>Nazareth</td>\n",
       "      <td>Alcatraz</td>\n",
       "      <td>now lay me down on market street  \\r i'm looki...</td>\n",
       "    </tr>\n",
       "  </tbody>\n",
       "</table>\n",
       "</div>"
      ],
      "text/plain": [
       "                  artist                                     song  \\\n",
       "4995  Kris Kristofferson  Please Don't Tell Me How The Story Ends   \n",
       "4996              ZZ Top                     Goin' Down To Mexico   \n",
       "4997        Donna Summer                    All Through The Night   \n",
       "4998                NOFX                                Beer Bong   \n",
       "4999            Nazareth                                 Alcatraz   \n",
       "\n",
       "                                                   text  \n",
       "4995  this could be our last good night together  \\r...  \n",
       "4996  i was on my way down to mexico,  \\r there was ...  \n",
       "4997  you know, boy  \\r you're so busy reaching for ...  \n",
       "4998  if i want some beer  \\r i don't want to hear  ...  \n",
       "4999  now lay me down on market street  \\r i'm looki...  "
      ]
     },
     "execution_count": 12,
     "metadata": {},
     "output_type": "execute_result"
    }
   ],
   "source": [
    "df.tail()"
   ]
  },
  {
   "cell_type": "code",
   "execution_count": 13,
   "id": "ea5ad3cf-5ec8-4e15-ab6d-5fbc384e5b06",
   "metadata": {},
   "outputs": [
    {
     "name": "stdout",
     "output_type": "stream",
     "text": [
      "you are beauti .\n"
     ]
    },
    {
     "name": "stderr",
     "output_type": "stream",
     "text": [
      "[nltk_data] Downloading package punkt to /Users/raphsmart/nltk_data...\n",
      "[nltk_data]   Package punkt is already up-to-date!\n",
      "[nltk_data] Downloading package punkt_tab to\n",
      "[nltk_data]     /Users/raphsmart/nltk_data...\n",
      "[nltk_data]   Package punkt_tab is already up-to-date!\n"
     ]
    }
   ],
   "source": [
    "import nltk\n",
    "\n",
    "# Download the 'punkt' resource\n",
    "nltk.download('punkt')\n",
    "nltk.download('punkt_tab')\n",
    "\n",
    "from nltk.stem import PorterStemmer\n",
    "from nltk.tokenize import word_tokenize\n",
    "\n",
    "# Initialize the stemmer\n",
    "stemmer = PorterStemmer()\n",
    "\n",
    "# Define the tokenizer function\n",
    "def tokenizer(text):\n",
    "    token = word_tokenize(text)  # Tokenizes the text\n",
    "    s = [stemmer.stem(t) for t in token]  # Stems each token\n",
    "    return \" \".join(s)\n",
    "\n",
    "# Test the tokenizer\n",
    "print(tokenizer(\"You are beautiful.\"))"
   ]
  },
  {
   "cell_type": "code",
   "execution_count": 15,
   "id": "92cd3c6c-16a3-4f32-a5d0-15a4f15863a6",
   "metadata": {},
   "outputs": [],
   "source": [
    "df['text'] = df['text'].apply(lambda x: tokenizer(x))"
   ]
  },
  {
   "cell_type": "code",
   "execution_count": 16,
   "id": "63757bde-3ea5-4dee-a4a3-ac81907d0d6e",
   "metadata": {},
   "outputs": [],
   "source": [
    "from sklearn.feature_extraction.text import TfidfVectorizer\n",
    "from sklearn.metrics.pairwise import cosine_similarity"
   ]
  },
  {
   "cell_type": "code",
   "execution_count": 17,
   "id": "35f9003f-2a9b-4528-977a-dd569fe54c9c",
   "metadata": {},
   "outputs": [],
   "source": [
    "tfidvector = TfidfVectorizer(analyzer='word',stop_words='english')\n",
    "matrix = tfidvector.fit_transform(df['text'])\n",
    "similarity = cosine_similarity(matrix)"
   ]
  },
  {
   "cell_type": "code",
   "execution_count": 18,
   "id": "7d78ccd2-0995-4b84-9187-3f6683297475",
   "metadata": {},
   "outputs": [
    {
     "data": {
      "text/plain": [
       "array([1.        , 0.30484464, 0.00494633, ..., 0.03784952, 0.00503607,\n",
       "       0.01186318])"
      ]
     },
     "execution_count": 18,
     "metadata": {},
     "output_type": "execute_result"
    }
   ],
   "source": [
    "similarity[0]"
   ]
  },
  {
   "cell_type": "code",
   "execution_count": 19,
   "id": "50b67acb-ca99-4ea5-9f5a-b64167962497",
   "metadata": {},
   "outputs": [
    {
     "data": {
      "text/html": [
       "<div>\n",
       "<style scoped>\n",
       "    .dataframe tbody tr th:only-of-type {\n",
       "        vertical-align: middle;\n",
       "    }\n",
       "\n",
       "    .dataframe tbody tr th {\n",
       "        vertical-align: top;\n",
       "    }\n",
       "\n",
       "    .dataframe thead th {\n",
       "        text-align: right;\n",
       "    }\n",
       "</style>\n",
       "<table border=\"1\" class=\"dataframe\">\n",
       "  <thead>\n",
       "    <tr style=\"text-align: right;\">\n",
       "      <th></th>\n",
       "      <th>artist</th>\n",
       "      <th>song</th>\n",
       "      <th>text</th>\n",
       "    </tr>\n",
       "  </thead>\n",
       "  <tbody>\n",
       "    <tr>\n",
       "      <th>0</th>\n",
       "      <td>Stevie Wonder</td>\n",
       "      <td>My Girl</td>\n",
       "      <td>i 've got sunshin on a cloudi day when it 's c...</td>\n",
       "    </tr>\n",
       "    <tr>\n",
       "      <th>1</th>\n",
       "      <td>Toto</td>\n",
       "      <td>Falling In Between</td>\n",
       "      <td>i 've just got to find find a way , back home ...</td>\n",
       "    </tr>\n",
       "    <tr>\n",
       "      <th>2</th>\n",
       "      <td>Kris Kristofferson</td>\n",
       "      <td>The Bandits Of Beverly Hills</td>\n",
       "      <td>the knew the moment their eye came togeth they...</td>\n",
       "    </tr>\n",
       "    <tr>\n",
       "      <th>3</th>\n",
       "      <td>John Prine</td>\n",
       "      <td>Take The Star Out Of The Window</td>\n",
       "      <td>robert wa a sailor for the best year of hi lif...</td>\n",
       "    </tr>\n",
       "    <tr>\n",
       "      <th>4</th>\n",
       "      <td>Dean Martin</td>\n",
       "      <td>Dream</td>\n",
       "      <td>star shine bright abov you night breez seem to...</td>\n",
       "    </tr>\n",
       "  </tbody>\n",
       "</table>\n",
       "</div>"
      ],
      "text/plain": [
       "               artist                             song  \\\n",
       "0       Stevie Wonder                          My Girl   \n",
       "1                Toto               Falling In Between   \n",
       "2  Kris Kristofferson     The Bandits Of Beverly Hills   \n",
       "3          John Prine  Take The Star Out Of The Window   \n",
       "4         Dean Martin                            Dream   \n",
       "\n",
       "                                                text  \n",
       "0  i 've got sunshin on a cloudi day when it 's c...  \n",
       "1  i 've just got to find find a way , back home ...  \n",
       "2  the knew the moment their eye came togeth they...  \n",
       "3  robert wa a sailor for the best year of hi lif...  \n",
       "4  star shine bright abov you night breez seem to...  "
      ]
     },
     "execution_count": 19,
     "metadata": {},
     "output_type": "execute_result"
    }
   ],
   "source": [
    "df.head()"
   ]
  },
  {
   "cell_type": "code",
   "execution_count": 21,
   "id": "e0afe3d1-b1cc-46a2-b78a-63a88dbef03a",
   "metadata": {},
   "outputs": [
    {
     "data": {
      "text/html": [
       "<div>\n",
       "<style scoped>\n",
       "    .dataframe tbody tr th:only-of-type {\n",
       "        vertical-align: middle;\n",
       "    }\n",
       "\n",
       "    .dataframe tbody tr th {\n",
       "        vertical-align: top;\n",
       "    }\n",
       "\n",
       "    .dataframe thead th {\n",
       "        text-align: right;\n",
       "    }\n",
       "</style>\n",
       "<table border=\"1\" class=\"dataframe\">\n",
       "  <thead>\n",
       "    <tr style=\"text-align: right;\">\n",
       "      <th></th>\n",
       "      <th>artist</th>\n",
       "      <th>song</th>\n",
       "      <th>text</th>\n",
       "    </tr>\n",
       "  </thead>\n",
       "  <tbody>\n",
       "    <tr>\n",
       "      <th>0</th>\n",
       "      <td>Stevie Wonder</td>\n",
       "      <td>My Girl</td>\n",
       "      <td>i 've got sunshin on a cloudi day when it 's c...</td>\n",
       "    </tr>\n",
       "    <tr>\n",
       "      <th>4917</th>\n",
       "      <td>Westlife</td>\n",
       "      <td>My Girl</td>\n",
       "      <td>i 've got sunshin on a cloudi day when it 's c...</td>\n",
       "    </tr>\n",
       "  </tbody>\n",
       "</table>\n",
       "</div>"
      ],
      "text/plain": [
       "             artist     song  \\\n",
       "0     Stevie Wonder  My Girl   \n",
       "4917       Westlife  My Girl   \n",
       "\n",
       "                                                   text  \n",
       "0     i 've got sunshin on a cloudi day when it 's c...  \n",
       "4917  i 've got sunshin on a cloudi day when it 's c...  "
      ]
     },
     "execution_count": 21,
     "metadata": {},
     "output_type": "execute_result"
    }
   ],
   "source": [
    "df[df['song'] == 'My Girl']"
   ]
  },
  {
   "cell_type": "code",
   "execution_count": 22,
   "id": "93fdaa4a-c45c-491b-89c2-ccde4d1efc5e",
   "metadata": {},
   "outputs": [],
   "source": [
    "def recommendation(song_df):\n",
    "    idx = df[df['song'] == song_df].index[0]\n",
    "    distances = sorted(list(enumerate(similarity[idx])),reverse=True,key=lambda x:x[1])\n",
    "    \n",
    "    songs = []\n",
    "    for m_id in distances[1:21]:\n",
    "        songs.append(df.iloc[m_id[0]].song)\n",
    "        \n",
    "    return songs"
   ]
  },
  {
   "cell_type": "code",
   "execution_count": 24,
   "id": "b17a6ad2-e744-4e83-a66c-fd3ea60ad145",
   "metadata": {},
   "outputs": [
    {
     "data": {
      "text/plain": [
       "['My Girl',\n",
       " 'Out Of Town Girl',\n",
       " 'Ordinary Girl',\n",
       " 'Go On Girl',\n",
       " 'Never Met A Girl Like You',\n",
       " 'I Met A Girl',\n",
       " \"I'm In Love With A White Girl\",\n",
       " 'Girls! Girls! Girls!',\n",
       " 'For You Blue',\n",
       " \"I'm Not A Girl, Not Yet\",\n",
       " 'Go Girl',\n",
       " 'There Goes My Baby',\n",
       " 'Same Girl',\n",
       " 'Girl On Fire',\n",
       " 'Just Be Your Tear',\n",
       " \"I'm Satisfied\",\n",
       " \"Big Girls Don't Cry\",\n",
       " 'Girl I Almost Knew',\n",
       " 'New Girl In Town',\n",
       " 'Back To The Way We Are']"
      ]
     },
     "execution_count": 24,
     "metadata": {},
     "output_type": "execute_result"
    }
   ],
   "source": [
    "recommendation('My Girl')"
   ]
  },
  {
   "cell_type": "code",
   "execution_count": 28,
   "id": "818002b2-69c5-4101-b4e9-460f28cc7181",
   "metadata": {},
   "outputs": [],
   "source": [
    "import pickle\n",
    "pickle.dump(similarity, open('similarity.pkl', 'wb'))"
   ]
  },
  {
   "cell_type": "code",
   "execution_count": 27,
   "id": "081d3947-1910-4570-96a9-8e7e2d5e15cc",
   "metadata": {},
   "outputs": [],
   "source": [
    "pickle.dump(df, open('df.pkl', 'wb'))"
   ]
  },
  {
   "cell_type": "code",
   "execution_count": null,
   "id": "b619ce1b-7032-4a4e-ab71-ddb28e8a9a60",
   "metadata": {},
   "outputs": [],
   "source": []
  }
 ],
 "metadata": {
  "kernelspec": {
   "display_name": "Python 3.10",
   "language": "python",
   "name": "python3.10"
  },
  "language_info": {
   "codemirror_mode": {
    "name": "ipython",
    "version": 3
   },
   "file_extension": ".py",
   "mimetype": "text/x-python",
   "name": "python",
   "nbconvert_exporter": "python",
   "pygments_lexer": "ipython3",
   "version": "3.10.15"
  }
 },
 "nbformat": 4,
 "nbformat_minor": 5
}
